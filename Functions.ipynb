{
  "nbformat": 4,
  "nbformat_minor": 5,
  "metadata": {
    "kernelspec": {
      "display_name": "Python 3",
      "language": "python",
      "name": "python3"
    },
    "language_info": {
      "codemirror_mode": {
        "name": "ipython",
        "version": 3
      },
      "file_extension": ".py",
      "mimetype": "text/x-python",
      "name": "python",
      "nbconvert_exporter": "python",
      "pygments_lexer": "ipython3",
      "version": "3.8.8"
    },
    "colab": {
      "name": "Copy of Functions.ipynb",
      "provenance": [],
      "include_colab_link": true
    }
  },
  "cells": [
    {
      "cell_type": "markdown",
      "metadata": {
        "id": "view-in-github",
        "colab_type": "text"
      },
      "source": [
        "<a href=\"https://colab.research.google.com/github/tghri499/DAP/blob/main/Functions.ipynb\" target=\"_parent\"><img src=\"https://colab.research.google.com/assets/colab-badge.svg\" alt=\"Open In Colab\"/></a>"
      ]
    },
    {
      "cell_type": "code",
      "metadata": {
        "id": "610c6d6a",
        "colab": {
          "base_uri": "https://localhost:8080/"
        },
        "outputId": "69490ee9-6178-47a8-8136-8cea271827a9"
      },
      "source": [
        "\n",
        "def hello (str):\n",
        "     print(\"in function   \" + str)\n",
        "     print(\"after printing in function definition\")\n",
        "     return;\n",
        "    \n",
        "    \n",
        "print(\"1\")\n",
        "print(\"2\")\n",
        "hello(\"Kushal\")\n",
        "hello(\"K P\")\n",
        "print(\"3\")\n",
        "    \n",
        "\n"
      ],
      "id": "610c6d6a",
      "execution_count": null,
      "outputs": [
        {
          "output_type": "stream",
          "name": "stdout",
          "text": [
            "1\n",
            "2\n",
            "in function   Kushal\n",
            "after printing in function definition\n",
            "in function   K P\n",
            "after printing in function definition\n",
            "3\n"
          ]
        }
      ]
    },
    {
      "cell_type": "code",
      "metadata": {
        "id": "fb2145fc",
        "colab": {
          "base_uri": "https://localhost:8080/"
        },
        "outputId": "2c94b486-7b9f-425b-855a-17053ade42df"
      },
      "source": [
        "def changeme( mylist ):\n",
        "   mylist.append([1,2,3,4]);\n",
        "   print (\"Values inside the function: \", mylist)\n",
        "   return;\n",
        "\n",
        "mylist = [10,20,30];\n",
        "changeme( mylist );\n",
        "print (\"Values outside the function: \", mylist)\n"
      ],
      "id": "fb2145fc",
      "execution_count": null,
      "outputs": [
        {
          "output_type": "stream",
          "name": "stdout",
          "text": [
            "Values inside the function:  [10, 20, 30, [1, 2, 3, 4]]\n",
            "Values outside the function:  [10, 20, 30, [1, 2, 3, 4]]\n"
          ]
        }
      ]
    },
    {
      "cell_type": "code",
      "metadata": {
        "id": "78748955",
        "colab": {
          "base_uri": "https://localhost:8080/"
        },
        "outputId": "eedb4168-22b3-4651-c482-1d39f58c3488"
      },
      "source": [
        "def changeme( mylist ):\n",
        "    print (\"BEFORE CHANGESValues inside the function: \", mylist)\n",
        "    mylist = [1,2,3,4]; \n",
        "    print (\"AFTER CHANGES Values inside the function: \", mylist)\n",
        "    return\n",
        "\n",
        "\n",
        "mylist1 = [10,20,30];\n",
        "changeme( mylist1 );\n",
        "print (\"Values outside the function: \", mylist1)"
      ],
      "id": "78748955",
      "execution_count": null,
      "outputs": [
        {
          "output_type": "stream",
          "name": "stdout",
          "text": [
            "BEFORE CHANGESValues inside the function:  [10, 20, 30]\n",
            "AFTER CHANGES Values inside the function:  [1, 2, 3, 4]\n",
            "Values outside the function:  [10, 20, 30]\n"
          ]
        }
      ]
    },
    {
      "cell_type": "code",
      "metadata": {
        "scrolled": true,
        "id": "3fd7b07c",
        "colab": {
          "base_uri": "https://localhost:8080/"
        },
        "outputId": "bc21601f-a6f0-432e-aa6e-b6f0b9eef739"
      },
      "source": [
        "def printme( str ):\n",
        "     print (str)\n",
        "     return;\n",
        "\n",
        "\n",
        "printme( str = \"My string\")"
      ],
      "id": "3fd7b07c",
      "execution_count": null,
      "outputs": [
        {
          "output_type": "stream",
          "name": "stdout",
          "text": [
            "My string\n"
          ]
        }
      ]
    },
    {
      "cell_type": "code",
      "metadata": {
        "id": "4f1aa13a",
        "colab": {
          "base_uri": "https://localhost:8080/"
        },
        "outputId": "836e6a6f-5247-4f97-f2dc-dcfd2d03974f"
      },
      "source": [
        "def printinfo( name, age ):\n",
        "    print (\"Name: \", name)\n",
        "    print (\"Age \", age)\n",
        "    return;\n",
        "\n",
        "\n",
        "printinfo( age=21, name=\"kushal\" )"
      ],
      "id": "4f1aa13a",
      "execution_count": null,
      "outputs": [
        {
          "output_type": "stream",
          "name": "stdout",
          "text": [
            "Name:  kushal\n",
            "Age  21\n"
          ]
        }
      ]
    },
    {
      "cell_type": "code",
      "metadata": {
        "id": "31440757",
        "colab": {
          "base_uri": "https://localhost:8080/"
        },
        "outputId": "3eb8090e-7d3d-4d12-ba91-6e050c58f758"
      },
      "source": [
        "def printinfo( name, age ):\n",
        "    print (\"Name: \", name)\n",
        "    print (\"Age \", age)\n",
        "    return;\n",
        "\n",
        "printinfo( \"kushal\",22 )"
      ],
      "id": "31440757",
      "execution_count": null,
      "outputs": [
        {
          "output_type": "stream",
          "name": "stdout",
          "text": [
            "Name:  kushal\n",
            "Age  22\n"
          ]
        }
      ]
    },
    {
      "cell_type": "code",
      "metadata": {
        "id": "686dee84",
        "colab": {
          "base_uri": "https://localhost:8080/"
        },
        "outputId": "ee8d47b6-98d3-4d43-b5c1-88f43ba29fd6"
      },
      "source": [
        "def printinfo( name, age ):\n",
        "    print (\"Name: \", name)\n",
        "    print (\"Age \", age)\n",
        "    return;\n",
        "\n",
        "printinfo( 22, \"kushal\" )"
      ],
      "id": "686dee84",
      "execution_count": null,
      "outputs": [
        {
          "output_type": "stream",
          "name": "stdout",
          "text": [
            "Name:  22\n",
            "Age  kushal\n"
          ]
        }
      ]
    },
    {
      "cell_type": "code",
      "metadata": {
        "id": "2e9d9fe4",
        "colab": {
          "base_uri": "https://localhost:8080/"
        },
        "outputId": "43babd61-422a-4379-e58e-c49bb38ed79c"
      },
      "source": [
        "def printinfo( name, age = 22 ):\n",
        "    print (\"Name: \", name)\n",
        "    print (\"Age \", age)\n",
        "    return;\n",
        "\n",
        "\n",
        "printinfo( age=32, name=\"kushal\" )\n",
        "printinfo( name=\"k p\" )"
      ],
      "id": "2e9d9fe4",
      "execution_count": null,
      "outputs": [
        {
          "output_type": "stream",
          "name": "stdout",
          "text": [
            "Name:  kushal\n",
            "Age  32\n",
            "Name:  k p\n",
            "Age  22\n"
          ]
        }
      ]
    },
    {
      "cell_type": "code",
      "metadata": {
        "id": "1897fba0",
        "colab": {
          "base_uri": "https://localhost:8080/"
        },
        "outputId": "49dc5a52-e94d-4770-ae4b-2f13776d3cb6"
      },
      "source": [
        "def printinfo( arg1, *vartuple ):\n",
        "     print (\"Output is: \")\n",
        "     print (\"arg1==\",arg1)\n",
        "     for var in vartuple:\n",
        "        print (var)\n",
        "     return;\n",
        "\n",
        "printinfo( 10,78 )\n",
        "printinfo( 70, 60, 50,90 )"
      ],
      "id": "1897fba0",
      "execution_count": null,
      "outputs": [
        {
          "output_type": "stream",
          "name": "stdout",
          "text": [
            "Output is: \n",
            "arg1== 10\n",
            "78\n",
            "Output is: \n",
            "arg1== 70\n",
            "60\n",
            "50\n",
            "90\n"
          ]
        }
      ]
    },
    {
      "cell_type": "code",
      "metadata": {
        "id": "55739efd",
        "colab": {
          "base_uri": "https://localhost:8080/"
        },
        "outputId": "e53fba1e-a47f-4907-b9c8-4342dd334332"
      },
      "source": [
        "sum = lambda arg1, arg2: arg1 + arg2;\n",
        "\n",
        "print (\"Value of total : \", sum( 10, 20 ))\n",
        "print (\"Value of total : \", sum( 20, 20 ))"
      ],
      "id": "55739efd",
      "execution_count": null,
      "outputs": [
        {
          "output_type": "stream",
          "name": "stdout",
          "text": [
            "Value of total :  30\n",
            "Value of total :  40\n"
          ]
        }
      ]
    },
    {
      "cell_type": "code",
      "metadata": {
        "id": "b5e22453",
        "colab": {
          "base_uri": "https://localhost:8080/"
        },
        "outputId": "40877e58-b1e8-40ec-fc49-b870818485cf"
      },
      "source": [
        "def sum( arg1, arg2 ):\n",
        "    total = arg1 + arg2\n",
        "    print (\"Inside the function : \", total)\n",
        "    return total;\n",
        "\n",
        "\n",
        "total1 = sum( 10, 20 );\n",
        "print (\"Outside the function : \", total1 )"
      ],
      "id": "b5e22453",
      "execution_count": null,
      "outputs": [
        {
          "output_type": "stream",
          "name": "stdout",
          "text": [
            "Inside the function :  30\n",
            "Outside the function :  30\n"
          ]
        }
      ]
    },
    {
      "cell_type": "code",
      "metadata": {
        "id": "97396c41",
        "colab": {
          "base_uri": "https://localhost:8080/"
        },
        "outputId": "9e5067d4-cac4-4b1e-803e-8c96f9109f75"
      },
      "source": [
        "total = 99; \n",
        "\n",
        "def sum( arg1, arg2 ):\n",
        "    total = arg1 + arg2; \n",
        "    print (\"Inside the function local total : \", total)\n",
        "    return total;\n",
        "\n",
        "\n",
        "sum( 10, 20 );\n",
        "print (\"Outside the function global total : \", total )"
      ],
      "id": "97396c41",
      "execution_count": null,
      "outputs": [
        {
          "output_type": "stream",
          "name": "stdout",
          "text": [
            "Inside the function local total :  30\n",
            "Outside the function global total :  99\n"
          ]
        }
      ]
    },
    {
      "cell_type": "code",
      "metadata": {
        "id": "4b526999"
      },
      "source": [
        ""
      ],
      "id": "4b526999",
      "execution_count": null,
      "outputs": []
    }
  ]
}