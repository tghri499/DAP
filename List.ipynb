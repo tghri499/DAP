{
  "nbformat": 4,
  "nbformat_minor": 5,
  "metadata": {
    "kernelspec": {
      "display_name": "Python 3",
      "language": "python",
      "name": "python3"
    },
    "language_info": {
      "codemirror_mode": {
        "name": "ipython",
        "version": 3
      },
      "file_extension": ".py",
      "mimetype": "text/x-python",
      "name": "python",
      "nbconvert_exporter": "python",
      "pygments_lexer": "ipython3",
      "version": "3.8.8"
    },
    "colab": {
      "name": "Copy of List.ipynb",
      "provenance": [],
      "include_colab_link": true
    }
  },
  "cells": [
    {
      "cell_type": "markdown",
      "metadata": {
        "id": "view-in-github",
        "colab_type": "text"
      },
      "source": [
        "<a href=\"https://colab.research.google.com/github/tghri499/DAP/blob/main/List.ipynb\" target=\"_parent\"><img src=\"https://colab.research.google.com/assets/colab-badge.svg\" alt=\"Open In Colab\"/></a>"
      ]
    },
    {
      "cell_type": "code",
      "metadata": {
        "id": "a16eb709",
        "colab": {
          "base_uri": "https://localhost:8080/"
        },
        "outputId": "f615b57e-ce00-41f3-c06e-0969420131f3"
      },
      "source": [
        "list1 = ['physics', 'chemistry', 1997, 2000];\n",
        "list2 = [1, 2, 3, 4, 5, 6, 7 ];\n",
        "print (\"list1[0]: \", list1[2])\n",
        "print (\"list2[1:5]: \", list2[1:3])"
      ],
      "id": "a16eb709",
      "execution_count": null,
      "outputs": [
        {
          "output_type": "stream",
          "name": "stdout",
          "text": [
            "list1[0]:  1997\n",
            "list2[1:5]:  [2, 3]\n"
          ]
        }
      ]
    },
    {
      "cell_type": "code",
      "metadata": {
        "id": "ba390b9a",
        "colab": {
          "base_uri": "https://localhost:8080/"
        },
        "outputId": "59e45403-e09c-4abd-e786-10afa52e4ae9"
      },
      "source": [
        "list = ['physics', 'chemistry', 1997, 2000];\n",
        "print (\"Value available at index 2 : \")\n",
        "print (list[2])\n",
        "list[2] = 999999;\n",
        "print (\"New value available at index 2 : \")\n",
        "print (list[2])"
      ],
      "id": "ba390b9a",
      "execution_count": null,
      "outputs": [
        {
          "output_type": "stream",
          "name": "stdout",
          "text": [
            "Value available at index 2 : \n",
            "1997\n",
            "New value available at index 2 : \n",
            "999999\n"
          ]
        }
      ]
    },
    {
      "cell_type": "code",
      "metadata": {
        "id": "6ec3d58a",
        "colab": {
          "base_uri": "https://localhost:8080/"
        },
        "outputId": "5c0fe0ed-747e-4ee8-e504-8f1154a7c99a"
      },
      "source": [
        "list1 = ['physics', 'chemistry', 1997, 2000];\n",
        "print (list1)\n",
        "del (list1[2]);\n",
        "print (\"After deleting value at index 2 :\")\n",
        "print (list1)"
      ],
      "id": "6ec3d58a",
      "execution_count": null,
      "outputs": [
        {
          "output_type": "stream",
          "name": "stdout",
          "text": [
            "['physics', 'chemistry', 1997, 2000]\n",
            "After deleting value at index 2 :\n",
            "['physics', 'chemistry', 2000]\n"
          ]
        }
      ]
    },
    {
      "cell_type": "code",
      "metadata": {
        "id": "3ccf5446",
        "colab": {
          "base_uri": "https://localhost:8080/"
        },
        "outputId": "755fcfa8-95b6-47cf-9e0e-1f9226c4ebe9"
      },
      "source": [
        "list1, list2 = [123, 'xyz', 'hara'], [456, 'abc']\n",
        "print (\"First list length : \", len(list1))\n",
        "print (\"Second list length : \", len(list2))"
      ],
      "id": "3ccf5446",
      "execution_count": null,
      "outputs": [
        {
          "output_type": "stream",
          "name": "stdout",
          "text": [
            "First list length :  3\n",
            "Second list length :  2\n"
          ]
        }
      ]
    },
    {
      "cell_type": "code",
      "metadata": {
        "id": "925a2fcc",
        "colab": {
          "base_uri": "https://localhost:8080/"
        },
        "outputId": "099adb47-2db5-40b3-8e70-f04f05977c1d"
      },
      "source": [
        "aList = [123, 'xyz', 'zara', 'abc'];\n",
        "aList.append( 2009 );\n",
        "print (\"Updated List : \", aList)"
      ],
      "id": "925a2fcc",
      "execution_count": null,
      "outputs": [
        {
          "output_type": "stream",
          "name": "stdout",
          "text": [
            "Updated List :  [123, 'xyz', 'zara', 'abc', 2009]\n"
          ]
        }
      ]
    },
    {
      "cell_type": "code",
      "metadata": {
        "id": "adda2a18",
        "colab": {
          "base_uri": "https://localhost:8080/"
        },
        "outputId": "cf7a4505-3b12-4517-8a63-7c23fbc9430b"
      },
      "source": [
        "aList = [123, 'xyz', 'xyz', 'abc', 123];\n",
        "print (\"Count for xyz : \", aList.count('xyz'))\n",
        "print (\"Count for zara : \", aList.count('zara'))"
      ],
      "id": "adda2a18",
      "execution_count": null,
      "outputs": [
        {
          "output_type": "stream",
          "name": "stdout",
          "text": [
            "Count for xyz :  2\n",
            "Count for zara :  0\n"
          ]
        }
      ]
    },
    {
      "cell_type": "code",
      "metadata": {
        "id": "fd2b4e87",
        "colab": {
          "base_uri": "https://localhost:8080/"
        },
        "outputId": "406bff9a-d869-491b-9972-65d8dfb7aad1"
      },
      "source": [
        "aList = [123, 'xyz', 'zara', 'abc', 123];\n",
        "bList = [2009, 'shabnam'];\n",
        "aList.extend(bList)\n",
        "print (\"Extended List : \", aList)"
      ],
      "id": "fd2b4e87",
      "execution_count": null,
      "outputs": [
        {
          "output_type": "stream",
          "name": "stdout",
          "text": [
            "Extended List :  [123, 'xyz', 'zara', 'abc', 123, 2009, 'shabnam']\n"
          ]
        }
      ]
    },
    {
      "cell_type": "code",
      "metadata": {
        "id": "ce3eff72",
        "colab": {
          "base_uri": "https://localhost:8080/"
        },
        "outputId": "75f3108f-60c3-4a94-a9db-ccf83f5a36d1"
      },
      "source": [
        "aList = [123, 'xyz', 'hara', 'abc', 'hara'];\n",
        "print (\"Index for xyz : \", aList.index( 'xyz' ) )\n",
        "print (\"Index for hara : \", aList.index( 'hara' ) )"
      ],
      "id": "ce3eff72",
      "execution_count": null,
      "outputs": [
        {
          "output_type": "stream",
          "name": "stdout",
          "text": [
            "Index for xyz :  1\n",
            "Index for hara :  2\n"
          ]
        }
      ]
    },
    {
      "cell_type": "code",
      "metadata": {
        "id": "9280e780",
        "colab": {
          "base_uri": "https://localhost:8080/"
        },
        "outputId": "fb75c87f-3487-4a76-f14f-8b3efd226c7a"
      },
      "source": [
        "aList = [123, 'xyz', 'zara', 'abc']\n",
        "aList.insert( 3, 2009)\n",
        "print (\"Final List : \", aList)"
      ],
      "id": "9280e780",
      "execution_count": null,
      "outputs": [
        {
          "output_type": "stream",
          "name": "stdout",
          "text": [
            "Final List :  [123, 'xyz', 'zara', 2009, 'abc']\n"
          ]
        }
      ]
    },
    {
      "cell_type": "code",
      "metadata": {
        "id": "badb489a",
        "colab": {
          "base_uri": "https://localhost:8080/"
        },
        "outputId": "6def9363-13b5-4035-dc03-4896123a01a9"
      },
      "source": [
        "aList = [123, 'xyz', 'zara', 'abc'];\n",
        "\n",
        "print(aList)\n",
        "\n",
        "print (\"List after popping last element : \", aList.pop())\n",
        "\n",
        "print(aList)\n",
        "\n",
        "print (\"List after popping element from mentioned index: \", aList.pop(2))\n",
        "\n",
        "print(aList)\n",
        "\n",
        "aList.insert(3, 2009)\n",
        "\n",
        "print(aList)"
      ],
      "id": "badb489a",
      "execution_count": null,
      "outputs": [
        {
          "output_type": "stream",
          "name": "stdout",
          "text": [
            "[123, 'xyz', 'zara', 'abc']\n",
            "List after popping last element :  abc\n",
            "[123, 'xyz', 'zara']\n",
            "List after popping element from mentioned index:  zara\n",
            "[123, 'xyz']\n",
            "[123, 'xyz', 2009]\n"
          ]
        }
      ]
    },
    {
      "cell_type": "code",
      "metadata": {
        "id": "1787188d",
        "colab": {
          "base_uri": "https://localhost:8080/"
        },
        "outputId": "4a1b5252-296f-4e08-c31b-b998a91ae559"
      },
      "source": [
        "aList = [123, 'xyz', 'zara', 'abc', 'xyz'];\n",
        "aList.remove('xyz');\n",
        "print (\"List : \", aList)\n",
        "aList.remove('abc');\n",
        "print (\"List : \", aList)"
      ],
      "id": "1787188d",
      "execution_count": null,
      "outputs": [
        {
          "output_type": "stream",
          "name": "stdout",
          "text": [
            "List :  [123, 'zara', 'abc', 'xyz']\n",
            "List :  [123, 'zara', 'xyz']\n"
          ]
        }
      ]
    },
    {
      "cell_type": "code",
      "metadata": {
        "id": "b2c17fb5",
        "colab": {
          "base_uri": "https://localhost:8080/"
        },
        "outputId": "edc55d64-7d4b-4494-be83-be1a01d09145"
      },
      "source": [
        "aList = ['Kushal', 'xyz', 'zara', 'abc', 'nive'];\n",
        "aList.reverse();\n",
        "print (\"List : \", aList)"
      ],
      "id": "b2c17fb5",
      "execution_count": null,
      "outputs": [
        {
          "output_type": "stream",
          "name": "stdout",
          "text": [
            "List :  ['nive', 'abc', 'zara', 'xyz', 'Kushal']\n"
          ]
        }
      ]
    },
    {
      "cell_type": "code",
      "metadata": {
        "id": "2ef2db47",
        "colab": {
          "base_uri": "https://localhost:8080/"
        },
        "outputId": "2d8fce78-d501-45f9-a2f9-4259239b54ba"
      },
      "source": [
        "aList = ['karthik', 'kushal', 'sonia', 'ali', 'nive'];\n",
        "aList.sort();\n",
        "print (\"List : \", aList)"
      ],
      "id": "2ef2db47",
      "execution_count": null,
      "outputs": [
        {
          "output_type": "stream",
          "name": "stdout",
          "text": [
            "List :  ['ali', 'karthik', 'kushal', 'nive', 'sonia']\n"
          ]
        }
      ]
    },
    {
      "cell_type": "code",
      "metadata": {
        "id": "8a0c479f"
      },
      "source": [
        ""
      ],
      "id": "8a0c479f",
      "execution_count": null,
      "outputs": []
    }
  ]
}