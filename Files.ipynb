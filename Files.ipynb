{
  "nbformat": 4,
  "nbformat_minor": 5,
  "metadata": {
    "kernelspec": {
      "display_name": "Python 3",
      "language": "python",
      "name": "python3"
    },
    "language_info": {
      "codemirror_mode": {
        "name": "ipython",
        "version": 3
      },
      "file_extension": ".py",
      "mimetype": "text/x-python",
      "name": "python",
      "nbconvert_exporter": "python",
      "pygments_lexer": "ipython3",
      "version": "3.8.8"
    },
    "colab": {
      "name": "Copy of Files.ipynb",
      "provenance": [],
      "include_colab_link": true
    }
  },
  "cells": [
    {
      "cell_type": "markdown",
      "metadata": {
        "id": "view-in-github",
        "colab_type": "text"
      },
      "source": [
        "<a href=\"https://colab.research.google.com/github/tghri499/DAP/blob/main/Files.ipynb\" target=\"_parent\"><img src=\"https://colab.research.google.com/assets/colab-badge.svg\" alt=\"Open In Colab\"/></a>"
      ]
    },
    {
      "cell_type": "code",
      "metadata": {
        "id": "70706d82",
        "colab": {
          "base_uri": "https://localhost:8080/"
        },
        "outputId": "0646e0fd-9399-499f-af8a-273e07523e9c"
      },
      "source": [
        "print (\"Python is really a great language,\", \"isn't it?\")"
      ],
      "id": "70706d82",
      "execution_count": null,
      "outputs": [
        {
          "output_type": "stream",
          "name": "stdout",
          "text": [
            "Python is really a great language, isn't it?\n"
          ]
        }
      ]
    },
    {
      "cell_type": "code",
      "metadata": {
        "id": "be356047",
        "colab": {
          "base_uri": "https://localhost:8080/"
        },
        "outputId": "3600fd83-78ae-47a3-df44-4e324f04d87c"
      },
      "source": [
        "str = input(\"Enter your input: \")\n",
        "print (\"Received input is : \", str)"
      ],
      "id": "be356047",
      "execution_count": null,
      "outputs": [
        {
          "output_type": "stream",
          "name": "stdout",
          "text": [
            "Enter your input: kushal\n",
            "Received input is :  kushal\n"
          ]
        }
      ]
    },
    {
      "cell_type": "code",
      "metadata": {
        "id": "4800f68f",
        "colab": {
          "base_uri": "https://localhost:8080/"
        },
        "outputId": "9cd5905a-dcc1-43bb-8b43-6dd5bb19457c"
      },
      "source": [
        "\n",
        "# Open a file\n",
        "fo = open(\"cse7sem.txt\", \"wb\")\n",
        "print (\"Name of the file: \", fo.name)\n",
        "\n",
        "# Close opend file\n",
        "fo.close()"
      ],
      "id": "4800f68f",
      "execution_count": null,
      "outputs": [
        {
          "output_type": "stream",
          "name": "stdout",
          "text": [
            "Name of the file:  cse7sem.txt\n"
          ]
        }
      ]
    },
    {
      "cell_type": "code",
      "metadata": {
        "id": "ee78f4df",
        "colab": {
          "base_uri": "https://localhost:8080/"
        },
        "outputId": "437b3261-1a2b-40dc-e679-d0e9f5646f75"
      },
      "source": [
        "f = open(\"cse7sem1.txt\", \"a\")\n",
        "f.write(\"Kushal\")\n",
        "f.close()\n",
        "\n",
        "#open and read the file after the appending:\n",
        "f = open(\"cse7sem1.txt\", \"r\")\n",
        "print(f.read()) "
      ],
      "id": "ee78f4df",
      "execution_count": null,
      "outputs": [
        {
          "output_type": "stream",
          "name": "stdout",
          "text": [
            "Kushal\n"
          ]
        }
      ]
    },
    {
      "cell_type": "code",
      "metadata": {
        "id": "b7a5909b",
        "colab": {
          "base_uri": "https://localhost:8080/"
        },
        "outputId": "5378b470-bc7e-49c7-e849-ca8497ed51fd"
      },
      "source": [
        "# Open a file\n",
        "fo = open(\"cse7sem.txt\", \"r+\")\n",
        "str = fo.read(10);\n",
        "print (\"Read String is : \", str)\n",
        "# Close opend file\n",
        "fo.close()"
      ],
      "id": "b7a5909b",
      "execution_count": null,
      "outputs": [
        {
          "output_type": "stream",
          "name": "stdout",
          "text": [
            "Read String is :  \n"
          ]
        }
      ]
    },
    {
      "cell_type": "code",
      "metadata": {
        "id": "1b581901",
        "colab": {
          "base_uri": "https://localhost:8080/"
        },
        "outputId": "78e05ecb-d4e7-47f3-dd28-4d225672ca4e"
      },
      "source": [
        "fo = open(\"cse7sem.txt\", \"wb\")\n",
        "print (\"Name of the file: \", fo.name)\n",
        "print (\"Closed or not : \", fo.closed)\n",
        "print (\"Opening mode : \", fo.mode)\n"
      ],
      "id": "1b581901",
      "execution_count": null,
      "outputs": [
        {
          "output_type": "stream",
          "name": "stdout",
          "text": [
            "Name of the file:  cse7sem.txt\n",
            "Closed or not :  False\n",
            "Opening mode :  wb\n"
          ]
        }
      ]
    },
    {
      "cell_type": "code",
      "metadata": {
        "id": "fe626966",
        "colab": {
          "base_uri": "https://localhost:8080/"
        },
        "outputId": "bd46f1d9-9d7c-4975-aaee-3f1877241b13"
      },
      "source": [
        "# Open a file\n",
        "fo = open(\"cse7sem1.txt\", \"r+\")\n",
        "\n",
        "str = fo.read(10)\n",
        "print (\"Read String is : \", str) \n",
        "\n",
        "# Check current position\n",
        "position = fo.tell()\n",
        "print (\"Current file position : \", position)\n",
        "\n",
        "# Reposition pointer at the beginning once again\n",
        "position = fo.seek(1, 0);\n",
        "str = fo.read(7)\n",
        "print (\"Again read String is : \", str)\n",
        "\n",
        "ptr=fo.seek(0,1)\n",
        "str1=fo.read(3)\n",
        "print(\"my new string= \", str1)\n",
        "\n",
        "# Close opened file\n",
        "fo.close()"
      ],
      "id": "fe626966",
      "execution_count": null,
      "outputs": [
        {
          "output_type": "stream",
          "name": "stdout",
          "text": [
            "Read String is :  Kushal\n",
            "Current file position :  6\n",
            "Again read String is :  ushal\n",
            "my new string=  \n"
          ]
        }
      ]
    },
    {
      "cell_type": "code",
      "metadata": {
        "id": "a569ca60",
        "colab": {
          "base_uri": "https://localhost:8080/",
          "height": 198
        },
        "outputId": "c3f42152-ee05-4856-9475-98809ec1cd69"
      },
      "source": [
        "import os\n",
        "\n",
        "# Rename a file from test1.txt to test2.txt\n",
        "os.rename(\"demofile2.txt\", \"test2.txt\" )"
      ],
      "id": "a569ca60",
      "execution_count": null,
      "outputs": [
        {
          "output_type": "error",
          "ename": "FileNotFoundError",
          "evalue": "ignored",
          "traceback": [
            "\u001b[0;31m---------------------------------------------------------------------------\u001b[0m",
            "\u001b[0;31mFileNotFoundError\u001b[0m                         Traceback (most recent call last)",
            "\u001b[0;32m<ipython-input-9-72dbd1b7e390>\u001b[0m in \u001b[0;36m<module>\u001b[0;34m()\u001b[0m\n\u001b[1;32m      2\u001b[0m \u001b[0;34m\u001b[0m\u001b[0m\n\u001b[1;32m      3\u001b[0m \u001b[0;31m# Rename a file from test1.txt to test2.txt\u001b[0m\u001b[0;34m\u001b[0m\u001b[0;34m\u001b[0m\u001b[0;34m\u001b[0m\u001b[0m\n\u001b[0;32m----> 4\u001b[0;31m \u001b[0mos\u001b[0m\u001b[0;34m.\u001b[0m\u001b[0mrename\u001b[0m\u001b[0;34m(\u001b[0m\u001b[0;34m\"demofile2.txt\"\u001b[0m\u001b[0;34m,\u001b[0m \u001b[0;34m\"test2.txt\"\u001b[0m \u001b[0;34m)\u001b[0m\u001b[0;34m\u001b[0m\u001b[0;34m\u001b[0m\u001b[0m\n\u001b[0m",
            "\u001b[0;31mFileNotFoundError\u001b[0m: [Errno 2] No such file or directory: 'demofile2.txt' -> 'test2.txt'"
          ]
        }
      ]
    },
    {
      "cell_type": "code",
      "metadata": {
        "id": "d12a6e83",
        "colab": {
          "base_uri": "https://localhost:8080/",
          "height": 198
        },
        "outputId": "42fa4af7-5b25-47dd-c836-280b12ed4766"
      },
      "source": [
        "import os\n",
        "\n",
        "# Delete file test2.txt\n",
        "os.remove(\"text2.txt\")"
      ],
      "id": "d12a6e83",
      "execution_count": null,
      "outputs": [
        {
          "output_type": "error",
          "ename": "FileNotFoundError",
          "evalue": "ignored",
          "traceback": [
            "\u001b[0;31m---------------------------------------------------------------------------\u001b[0m",
            "\u001b[0;31mFileNotFoundError\u001b[0m                         Traceback (most recent call last)",
            "\u001b[0;32m<ipython-input-10-165d86c30141>\u001b[0m in \u001b[0;36m<module>\u001b[0;34m()\u001b[0m\n\u001b[1;32m      2\u001b[0m \u001b[0;34m\u001b[0m\u001b[0m\n\u001b[1;32m      3\u001b[0m \u001b[0;31m# Delete file test2.txt\u001b[0m\u001b[0;34m\u001b[0m\u001b[0;34m\u001b[0m\u001b[0;34m\u001b[0m\u001b[0m\n\u001b[0;32m----> 4\u001b[0;31m \u001b[0mos\u001b[0m\u001b[0;34m.\u001b[0m\u001b[0mremove\u001b[0m\u001b[0;34m(\u001b[0m\u001b[0;34m\"text2.txt\"\u001b[0m\u001b[0;34m)\u001b[0m\u001b[0;34m\u001b[0m\u001b[0;34m\u001b[0m\u001b[0m\n\u001b[0m",
            "\u001b[0;31mFileNotFoundError\u001b[0m: [Errno 2] No such file or directory: 'text2.txt'"
          ]
        }
      ]
    },
    {
      "cell_type": "code",
      "metadata": {
        "id": "e6685d3f"
      },
      "source": [
        "import os\n",
        "\n",
        "# Create a directory \"test\"\n",
        "os.mkdir(\"test\")"
      ],
      "id": "e6685d3f",
      "execution_count": null,
      "outputs": []
    },
    {
      "cell_type": "code",
      "metadata": {
        "id": "5ff36359",
        "colab": {
          "base_uri": "https://localhost:8080/",
          "height": 198
        },
        "outputId": "7611a457-7d76-4b1e-9b4e-db3ef30fdf80"
      },
      "source": [
        "import os\n",
        "\n",
        "# Changing a directory to \"/home/newdir\"\n",
        "os.chdir(\"D:\\shab\")"
      ],
      "id": "5ff36359",
      "execution_count": null,
      "outputs": [
        {
          "output_type": "error",
          "ename": "FileNotFoundError",
          "evalue": "ignored",
          "traceback": [
            "\u001b[0;31m---------------------------------------------------------------------------\u001b[0m",
            "\u001b[0;31mFileNotFoundError\u001b[0m                         Traceback (most recent call last)",
            "\u001b[0;32m<ipython-input-12-6893d08a1667>\u001b[0m in \u001b[0;36m<module>\u001b[0;34m()\u001b[0m\n\u001b[1;32m      2\u001b[0m \u001b[0;34m\u001b[0m\u001b[0m\n\u001b[1;32m      3\u001b[0m \u001b[0;31m# Changing a directory to \"/home/newdir\"\u001b[0m\u001b[0;34m\u001b[0m\u001b[0;34m\u001b[0m\u001b[0;34m\u001b[0m\u001b[0m\n\u001b[0;32m----> 4\u001b[0;31m \u001b[0mos\u001b[0m\u001b[0;34m.\u001b[0m\u001b[0mchdir\u001b[0m\u001b[0;34m(\u001b[0m\u001b[0;34m\"D:\\shab\"\u001b[0m\u001b[0;34m)\u001b[0m\u001b[0;34m\u001b[0m\u001b[0;34m\u001b[0m\u001b[0m\n\u001b[0m",
            "\u001b[0;31mFileNotFoundError\u001b[0m: [Errno 2] No such file or directory: 'D:\\\\shab'"
          ]
        }
      ]
    },
    {
      "cell_type": "code",
      "metadata": {
        "id": "9ae156cf",
        "colab": {
          "base_uri": "https://localhost:8080/",
          "height": 198
        },
        "outputId": "6485b8f2-b832-4fe7-cc2d-c1a4464a1649"
      },
      "source": [
        "import os\n",
        "\n",
        "# This would give location of the current directory\n",
        "os.getcwd()\n",
        "\n",
        "\n",
        "# This would  remove \"/tmp/test\"  directory.\n",
        "os.rmdir( \"/tmp/test\"  )"
      ],
      "id": "9ae156cf",
      "execution_count": null,
      "outputs": [
        {
          "output_type": "error",
          "ename": "FileNotFoundError",
          "evalue": "ignored",
          "traceback": [
            "\u001b[0;31m---------------------------------------------------------------------------\u001b[0m",
            "\u001b[0;31mFileNotFoundError\u001b[0m                         Traceback (most recent call last)",
            "\u001b[0;32m<ipython-input-13-2270b0c65b93>\u001b[0m in \u001b[0;36m<module>\u001b[0;34m()\u001b[0m\n\u001b[1;32m      6\u001b[0m \u001b[0;34m\u001b[0m\u001b[0m\n\u001b[1;32m      7\u001b[0m \u001b[0;31m# This would  remove \"/tmp/test\"  directory.\u001b[0m\u001b[0;34m\u001b[0m\u001b[0;34m\u001b[0m\u001b[0;34m\u001b[0m\u001b[0m\n\u001b[0;32m----> 8\u001b[0;31m \u001b[0mos\u001b[0m\u001b[0;34m.\u001b[0m\u001b[0mrmdir\u001b[0m\u001b[0;34m(\u001b[0m \u001b[0;34m\"/tmp/test\"\u001b[0m  \u001b[0;34m)\u001b[0m\u001b[0;34m\u001b[0m\u001b[0;34m\u001b[0m\u001b[0m\n\u001b[0m",
            "\u001b[0;31mFileNotFoundError\u001b[0m: [Errno 2] No such file or directory: '/tmp/test'"
          ]
        }
      ]
    }
  ]
}