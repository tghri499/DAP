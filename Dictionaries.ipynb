{
  "nbformat": 4,
  "nbformat_minor": 5,
  "metadata": {
    "kernelspec": {
      "display_name": "Python 3",
      "language": "python",
      "name": "python3"
    },
    "language_info": {
      "codemirror_mode": {
        "name": "ipython",
        "version": 3
      },
      "file_extension": ".py",
      "mimetype": "text/x-python",
      "name": "python",
      "nbconvert_exporter": "python",
      "pygments_lexer": "ipython3",
      "version": "3.8.8"
    },
    "colab": {
      "name": "Copy of Dictionaries.ipynb",
      "provenance": [],
      "include_colab_link": true
    }
  },
  "cells": [
    {
      "cell_type": "markdown",
      "metadata": {
        "id": "view-in-github",
        "colab_type": "text"
      },
      "source": [
        "<a href=\"https://colab.research.google.com/github/tghri499/DAP/blob/main/Dictionaries.ipynb\" target=\"_parent\"><img src=\"https://colab.research.google.com/assets/colab-badge.svg\" alt=\"Open In Colab\"/></a>"
      ]
    },
    {
      "cell_type": "code",
      "metadata": {
        "id": "f9e29d38",
        "colab": {
          "base_uri": "https://localhost:8080/"
        },
        "outputId": "416a27a4-c2bf-45d6-808d-f69b2c9657ce"
      },
      "source": [
        "dict={'name':'kushal','designation':'AsP','qual':'phd','univ':'cmr'}\n",
        "print(dict['name'])\n",
        "\n",
        "\n",
        "print(dict['qual'])"
      ],
      "id": "f9e29d38",
      "execution_count": null,
      "outputs": [
        {
          "output_type": "stream",
          "name": "stdout",
          "text": [
            "kushal\n",
            "phd\n"
          ]
        }
      ]
    },
    {
      "cell_type": "code",
      "metadata": {
        "id": "dae64caa",
        "colab": {
          "base_uri": "https://localhost:8080/"
        },
        "outputId": "c97b3053-faa2-43ad-b915-532485d1d6fb"
      },
      "source": [
        "dict={'name':'kushal','designation':'AsP','qual':'phd','univ':'cmr'}\n",
        "\n",
        "dict['name']='kushal'\n",
        "\n",
        "print(dict['name'])\n",
        "\n",
        "dict['class']='cse7sem'\n",
        "\n",
        "print(dict['class'])\n",
        "\n"
      ],
      "id": "dae64caa",
      "execution_count": null,
      "outputs": [
        {
          "output_type": "stream",
          "name": "stdout",
          "text": [
            "kushal\n",
            "cse7sem\n"
          ]
        }
      ]
    },
    {
      "cell_type": "code",
      "metadata": {
        "id": "a812e5e4"
      },
      "source": [
        "dict={'name':'kushal','designation':'AsP','qual':'phd','univ':'cmr'}\n",
        "\n",
        "\n",
        "del dict['designation']\n",
        "\n",
        "#print(dict['designation'])\n",
        "\n",
        "dict.clear()\n",
        "\n",
        "#print(dict['name'])\n",
        "\n",
        "del dict"
      ],
      "id": "a812e5e4",
      "execution_count": null,
      "outputs": []
    },
    {
      "cell_type": "code",
      "metadata": {
        "id": "fd8f8734",
        "colab": {
          "base_uri": "https://localhost:8080/"
        },
        "outputId": "bc093c6c-1aa6-4983-886c-a9db73b3182a"
      },
      "source": [
        "dict={'name':'kushal','designation':'AsP','qual':'phd','univ':'cmr', 'name':'kushal k p'}\n",
        "\n",
        "\n",
        "print(dict['name'])\n",
        "\n",
        "print(len(dict))"
      ],
      "id": "fd8f8734",
      "execution_count": null,
      "outputs": [
        {
          "output_type": "stream",
          "name": "stdout",
          "text": [
            "kushal k p\n",
            "4\n"
          ]
        }
      ]
    },
    {
      "cell_type": "code",
      "metadata": {
        "id": "7a9cf5ae",
        "colab": {
          "base_uri": "https://localhost:8080/"
        },
        "outputId": "6a6e2e3d-ba9c-447f-ce57-584f9ad244a8"
      },
      "source": [
        "dict={'name':'kushal','designation':'AsP','qual':'phd','univ':'cmr', 'name':'k p'}\n",
        "\n",
        "\n",
        "print(dict.values())\n",
        "\n",
        "print(dict.items())\n",
        "\n",
        "print(dict.keys())"
      ],
      "id": "7a9cf5ae",
      "execution_count": null,
      "outputs": [
        {
          "output_type": "stream",
          "name": "stdout",
          "text": [
            "dict_values(['k p', 'AsP', 'phd', 'cmr'])\n",
            "dict_items([('name', 'k p'), ('designation', 'AsP'), ('qual', 'phd'), ('univ', 'cmr')])\n",
            "dict_keys(['name', 'designation', 'qual', 'univ'])\n"
          ]
        }
      ]
    },
    {
      "cell_type": "code",
      "metadata": {
        "id": "2842e9db",
        "colab": {
          "base_uri": "https://localhost:8080/"
        },
        "outputId": "535c118d-01ff-4e66-e216-68e76fc326b7"
      },
      "source": [
        "dict={'name':'kushal','designation':'AsP','qual':'phd','univ':'cmr', 'name':'k p'}\n",
        "\n",
        "\n",
        "print(dict['name'])\n",
        "\n",
        "print(dict.get('edu',\"nothing\"))\n",
        "\n",
        "\n"
      ],
      "id": "2842e9db",
      "execution_count": null,
      "outputs": [
        {
          "output_type": "stream",
          "name": "stdout",
          "text": [
            "k p\n",
            "nothing\n"
          ]
        }
      ]
    },
    {
      "cell_type": "code",
      "metadata": {
        "id": "243dda29",
        "colab": {
          "base_uri": "https://localhost:8080/"
        },
        "outputId": "7076e8dc-b99f-4951-a25a-45c1d3fd0b0c"
      },
      "source": [
        "dict={'name':'kushal','designation':'AsP','qual':'phd','univ':'cmr', 'name':'k p'}\n",
        "\n",
        "\n",
        "dict2=dict.copy()\n",
        "\n",
        "print(dict2['name'])\n",
        "\n",
        "print(len(dict2))"
      ],
      "id": "243dda29",
      "execution_count": null,
      "outputs": [
        {
          "output_type": "stream",
          "name": "stdout",
          "text": [
            "k p\n",
            "4\n"
          ]
        }
      ]
    },
    {
      "cell_type": "code",
      "metadata": {
        "id": "6a57403b",
        "colab": {
          "base_uri": "https://localhost:8080/"
        },
        "outputId": "c024f0fd-935a-4f8a-cec6-8695ffa04dd9"
      },
      "source": [
        "dict={'name':'kushal','designation':'AsP','qual':'phd','univ':'cmr', 'name':'k p'}\n",
        "\n",
        "\n",
        "dict2={'edu':'btech-mtech','students':'7sem'}\n",
        "\n",
        "print(dict)\n",
        "print(dict2)\n",
        "\n",
        "dict.update(dict2)\n",
        "\n",
        "print(dict)"
      ],
      "id": "6a57403b",
      "execution_count": null,
      "outputs": [
        {
          "output_type": "stream",
          "name": "stdout",
          "text": [
            "{'name': 'k p', 'designation': 'AsP', 'qual': 'phd', 'univ': 'cmr'}\n",
            "{'edu': 'btech-mtech', 'students': '7sem'}\n",
            "{'name': 'k p', 'designation': 'AsP', 'qual': 'phd', 'univ': 'cmr', 'edu': 'btech-mtech', 'students': '7sem'}\n"
          ]
        }
      ]
    },
    {
      "cell_type": "code",
      "metadata": {
        "id": "4e542941"
      },
      "source": [
        ""
      ],
      "id": "4e542941",
      "execution_count": null,
      "outputs": []
    }
  ]
}