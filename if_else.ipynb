{
  "nbformat": 4,
  "nbformat_minor": 5,
  "metadata": {
    "kernelspec": {
      "display_name": "Python 3",
      "language": "python",
      "name": "python3"
    },
    "language_info": {
      "codemirror_mode": {
        "name": "ipython",
        "version": 3
      },
      "file_extension": ".py",
      "mimetype": "text/x-python",
      "name": "python",
      "nbconvert_exporter": "python",
      "pygments_lexer": "ipython3",
      "version": "3.8.8"
    },
    "colab": {
      "name": "Copy of if-else.ipynb",
      "provenance": [],
      "include_colab_link": true
    }
  },
  "cells": [
    {
      "cell_type": "markdown",
      "metadata": {
        "id": "view-in-github",
        "colab_type": "text"
      },
      "source": [
        "<a href=\"https://colab.research.google.com/github/tghri499/DAP/blob/main/if_else.ipynb\" target=\"_parent\"><img src=\"https://colab.research.google.com/assets/colab-badge.svg\" alt=\"Open In Colab\"/></a>"
      ]
    },
    {
      "cell_type": "code",
      "metadata": {
        "id": "67a198ab",
        "colab": {
          "base_uri": "https://localhost:8080/"
        },
        "outputId": "1d49bf5a-f312-4908-9a0c-981d99db2337"
      },
      "source": [
        "    num = int(input(\"enter the number?\"))  \n",
        "    if num%2 == 0:  \n",
        "        print(\"Number is even\")\n",
        "    print(\"bye\")\n",
        "        "
      ],
      "id": "67a198ab",
      "execution_count": null,
      "outputs": [
        {
          "output_type": "stream",
          "name": "stdout",
          "text": [
            "enter the number?8\n",
            "Number is even\n",
            "bye\n"
          ]
        }
      ]
    },
    {
      "cell_type": "code",
      "metadata": {
        "id": "e81e7abc",
        "colab": {
          "base_uri": "https://localhost:8080/"
        },
        "outputId": "600bf997-e7ff-4501-a1dd-034295a6f17e"
      },
      "source": [
        "    a = int(input(\"Enter a- \"));  \n",
        "    b = int(input(\"Enter b- \"));  \n",
        "    c = int(input(\"Enter c- \"));  \n",
        "    if a>b and a>c:  \n",
        "        print(\"a is largest\");  \n",
        "    if b>a and b>c:  \n",
        "        print(\"b is largest\");  \n",
        "    if c>a and c>b:  \n",
        "        print(\"c is largest\");  "
      ],
      "id": "e81e7abc",
      "execution_count": null,
      "outputs": [
        {
          "output_type": "stream",
          "name": "stdout",
          "text": [
            "Enter a- 4\n",
            "Enter b- 6\n",
            "Enter c- 2\n",
            "b is largest\n"
          ]
        }
      ]
    },
    {
      "cell_type": "code",
      "metadata": {
        "id": "1c9aa697",
        "colab": {
          "base_uri": "https://localhost:8080/"
        },
        "outputId": "87c3faff-e21c-40c4-ee67-e6c6e89de384"
      },
      "source": [
        "    age = int (input(\"Enter your age? \"))  \n",
        "    if age>=18:  \n",
        "        print(\"You are eligible to vote !!\");  \n",
        "    else:  \n",
        "        print(\"Sorry! you have to wait !!\");  "
      ],
      "id": "1c9aa697",
      "execution_count": null,
      "outputs": [
        {
          "output_type": "stream",
          "name": "stdout",
          "text": [
            "Enter your age? 22\n",
            "You are eligible to vote !!\n"
          ]
        }
      ]
    },
    {
      "cell_type": "code",
      "metadata": {
        "id": "0a328395",
        "colab": {
          "base_uri": "https://localhost:8080/"
        },
        "outputId": "5c140f27-036b-4e7b-8004-240de8dcc6e4"
      },
      "source": [
        "    num = int(input(\"enter the number?\"))  \n",
        "    if num%2 == 0:  \n",
        "        print(\"Number is even...\")  \n",
        "    else:  \n",
        "        print(\"Number is odd...\")  "
      ],
      "id": "0a328395",
      "execution_count": null,
      "outputs": [
        {
          "output_type": "stream",
          "name": "stdout",
          "text": [
            "enter the number?23\n",
            "Number is odd...\n"
          ]
        }
      ]
    },
    {
      "cell_type": "code",
      "metadata": {
        "id": "11628e55",
        "colab": {
          "base_uri": "https://localhost:8080/"
        },
        "outputId": "2437e922-f102-4fe1-b489-f9b0f75d2a6a"
      },
      "source": [
        "    number = int(input(\"Enter the number?\"))  \n",
        "    if number==10:  \n",
        "        print(\"number is equals to 10\")  \n",
        "    elif number==50:  \n",
        "        print(\"number is equal to 50\");  \n",
        "    elif number==100:  \n",
        "        print(\"number is equal to 100\");  \n",
        "    else:  \n",
        "        print(\"number is not equal to 10, 50 or 100\");  "
      ],
      "id": "11628e55",
      "execution_count": null,
      "outputs": [
        {
          "output_type": "stream",
          "name": "stdout",
          "text": [
            "Enter the number?10\n",
            "number is equals to 10\n"
          ]
        }
      ]
    },
    {
      "cell_type": "code",
      "metadata": {
        "id": "6b02cacc",
        "colab": {
          "base_uri": "https://localhost:8080/"
        },
        "outputId": "2a781193-f951-4af7-9297-d626abc3f116"
      },
      "source": [
        "number = input(\"Enter the number?\")\n",
        "if number==10:  \n",
        "    print(\"number is equals to 10\")  \n",
        "elif number==50:  \n",
        "    print(\"number is equal to 50\");  \n",
        "elif number==100:  \n",
        "    print(\"number is equal to 100\");  \n",
        "else:  \n",
        "    print(\"number is not equal to 10, 50 or 100\");  "
      ],
      "id": "6b02cacc",
      "execution_count": null,
      "outputs": [
        {
          "output_type": "stream",
          "name": "stdout",
          "text": [
            "Enter the number?50\n",
            "number is not equal to 10, 50 or 100\n"
          ]
        }
      ]
    },
    {
      "cell_type": "code",
      "metadata": {
        "id": "b6a59f62",
        "colab": {
          "base_uri": "https://localhost:8080/"
        },
        "outputId": "753430c0-5517-4635-b909-1fa6b96346e3"
      },
      "source": [
        "    marks = int(input(\"Enter the marks? \"))  \n",
        "    if marks > 85 and marks <= 100:  \n",
        "       print(\"Congrats ! you scored grade A ...\")  \n",
        "    elif marks > 60 and marks <= 85:  \n",
        "       print(\"You scored grade B + ...\")  \n",
        "    elif marks > 40 and marks <= 60:  \n",
        "       print(\"You scored grade B ...\")  \n",
        "    elif (marks > 30 and marks <= 40):  \n",
        "       print(\"You scored grade C ...\")  \n",
        "    else:  \n",
        "       print(\"Sorry you are fail ?\")  "
      ],
      "id": "b6a59f62",
      "execution_count": null,
      "outputs": [
        {
          "output_type": "stream",
          "name": "stdout",
          "text": [
            "Enter the marks? 85\n",
            "You scored grade B + ...\n"
          ]
        }
      ]
    },
    {
      "cell_type": "code",
      "metadata": {
        "id": "095997f5"
      },
      "source": [
        ""
      ],
      "id": "095997f5",
      "execution_count": null,
      "outputs": []
    },
    {
      "cell_type": "code",
      "metadata": {
        "id": "39540fdf"
      },
      "source": [
        ""
      ],
      "id": "39540fdf",
      "execution_count": null,
      "outputs": []
    }
  ]
}