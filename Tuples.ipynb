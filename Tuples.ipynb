{
  "nbformat": 4,
  "nbformat_minor": 5,
  "metadata": {
    "kernelspec": {
      "display_name": "Python 3",
      "language": "python",
      "name": "python3"
    },
    "language_info": {
      "codemirror_mode": {
        "name": "ipython",
        "version": 3
      },
      "file_extension": ".py",
      "mimetype": "text/x-python",
      "name": "python",
      "nbconvert_exporter": "python",
      "pygments_lexer": "ipython3",
      "version": "3.8.8"
    },
    "colab": {
      "name": "Copy of Tuples.ipynb",
      "provenance": [],
      "include_colab_link": true
    }
  },
  "cells": [
    {
      "cell_type": "markdown",
      "metadata": {
        "id": "view-in-github",
        "colab_type": "text"
      },
      "source": [
        "<a href=\"https://colab.research.google.com/github/tghri499/DAP/blob/main/Tuples.ipynb\" target=\"_parent\"><img src=\"https://colab.research.google.com/assets/colab-badge.svg\" alt=\"Open In Colab\"/></a>"
      ]
    },
    {
      "cell_type": "code",
      "metadata": {
        "id": "424b5b94",
        "colab": {
          "base_uri": "https://localhost:8080/"
        },
        "outputId": "6e309d31-169a-410e-fad7-27492be70e66"
      },
      "source": [
        "tup= ('cse','it','mech')\n",
        "print(tup)\n",
        "tup1=(1,23,4,5,5,6)\n",
        "print(tup1)\n",
        "tup2=\"abc\",\"def\"\n",
        "print(tup2)"
      ],
      "id": "424b5b94",
      "execution_count": null,
      "outputs": [
        {
          "output_type": "stream",
          "name": "stdout",
          "text": [
            "('cse', 'it', 'mech')\n",
            "(1, 23, 4, 5, 5, 6)\n",
            "('abc', 'def')\n"
          ]
        }
      ]
    },
    {
      "cell_type": "code",
      "metadata": {
        "id": "debde1a5",
        "colab": {
          "base_uri": "https://localhost:8080/"
        },
        "outputId": "26c24ad7-008b-4a08-c4c6-e81dc700886a"
      },
      "source": [
        "tup1 = ()\n",
        "print(tup1)"
      ],
      "id": "debde1a5",
      "execution_count": null,
      "outputs": [
        {
          "output_type": "stream",
          "name": "stdout",
          "text": [
            "()\n"
          ]
        }
      ]
    },
    {
      "cell_type": "code",
      "metadata": {
        "id": "74286d0d",
        "colab": {
          "base_uri": "https://localhost:8080/"
        },
        "outputId": "6842bf50-b478-43a9-f31f-afea3224cf59"
      },
      "source": [
        "tup1 = (24)\n",
        "print(tup1)"
      ],
      "id": "74286d0d",
      "execution_count": null,
      "outputs": [
        {
          "output_type": "stream",
          "name": "stdout",
          "text": [
            "24\n"
          ]
        }
      ]
    },
    {
      "cell_type": "code",
      "metadata": {
        "id": "a79a5606",
        "colab": {
          "base_uri": "https://localhost:8080/"
        },
        "outputId": "c41d4a19-42d2-4acd-eb3a-ef8b2b4655e1"
      },
      "source": [
        "tup= ('cse','it','mech','ece','electrical')\n",
        "print(tup[0])\n",
        "print(tup[2])\n",
        "print(tup[2:5])"
      ],
      "id": "a79a5606",
      "execution_count": null,
      "outputs": [
        {
          "output_type": "stream",
          "name": "stdout",
          "text": [
            "cse\n",
            "mech\n",
            "('mech', 'ece', 'electrical')\n"
          ]
        }
      ]
    },
    {
      "cell_type": "code",
      "metadata": {
        "id": "10d1afee",
        "colab": {
          "base_uri": "https://localhost:8080/"
        },
        "outputId": "89152fb6-f068-44dc-ef50-af8257470c4e"
      },
      "source": [
        "tup1= ('cse','it','mech','ece','electrical')\n",
        "print(tup1)\n",
        "tup2= ('Kushal','karthik','roy')\n",
        "print(tup2)\n",
        "\n",
        "\n",
        "tup3=tup1+tup2\n",
        "print(tup3)"
      ],
      "id": "10d1afee",
      "execution_count": null,
      "outputs": [
        {
          "output_type": "stream",
          "name": "stdout",
          "text": [
            "('cse', 'it', 'mech', 'ece', 'electrical')\n",
            "('Kushal', 'karthik', 'roy')\n",
            "('cse', 'it', 'mech', 'ece', 'electrical', 'Kushal', 'karthik', 'roy')\n"
          ]
        }
      ]
    },
    {
      "cell_type": "code",
      "metadata": {
        "id": "90cb299f",
        "colab": {
          "base_uri": "https://localhost:8080/"
        },
        "outputId": "552a6b53-a66b-432e-b0f6-2c6ca7fb5f40"
      },
      "source": [
        "tup1= ('cse','it','mech','ece','electrical')\n",
        "print(tup1)\n",
        "tup2= ('Kushal','Karthik','roy')\n",
        "print(tup2)\n",
        "a=len(tup1)\n",
        "b=len(tup2)\n",
        "print(a)\n",
        "print(b)\n",
        "\n",
        "print(len(tup1))\n"
      ],
      "id": "90cb299f",
      "execution_count": null,
      "outputs": [
        {
          "output_type": "stream",
          "name": "stdout",
          "text": [
            "('cse', 'it', 'mech', 'ece', 'electrical')\n",
            "('Kushal', 'Karthik', 'roy')\n",
            "5\n",
            "3\n",
            "5\n"
          ]
        }
      ]
    },
    {
      "cell_type": "code",
      "metadata": {
        "id": "fd3c1496",
        "colab": {
          "base_uri": "https://localhost:8080/"
        },
        "outputId": "2be76ba1-0178-4caf-d2eb-6b0c334d92bd"
      },
      "source": [
        "tup1= ('cse','it','mech','ece','electrical')\n",
        "print(tup1)\n",
        "tup2= ('Kushal','karthik','roy')\n",
        "print(tup2)\n",
        "\n",
        "\n",
        "print(max(tup1))"
      ],
      "id": "fd3c1496",
      "execution_count": null,
      "outputs": [
        {
          "output_type": "stream",
          "name": "stdout",
          "text": [
            "('cse', 'it', 'mech', 'ece', 'electrical')\n",
            "('Kushal', 'karthik', 'roy')\n",
            "mech\n"
          ]
        }
      ]
    },
    {
      "cell_type": "code",
      "metadata": {
        "id": "80ef4447"
      },
      "source": [
        ""
      ],
      "id": "80ef4447",
      "execution_count": null,
      "outputs": []
    }
  ]
}