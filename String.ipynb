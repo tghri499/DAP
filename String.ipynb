{
  "nbformat": 4,
  "nbformat_minor": 5,
  "metadata": {
    "kernelspec": {
      "display_name": "Python 3",
      "language": "python",
      "name": "python3"
    },
    "language_info": {
      "codemirror_mode": {
        "name": "ipython",
        "version": 3
      },
      "file_extension": ".py",
      "mimetype": "text/x-python",
      "name": "python",
      "nbconvert_exporter": "python",
      "pygments_lexer": "ipython3",
      "version": "3.8.8"
    },
    "colab": {
      "name": "Copy of String.ipynb",
      "provenance": [],
      "include_colab_link": true
    }
  },
  "cells": [
    {
      "cell_type": "markdown",
      "metadata": {
        "id": "view-in-github",
        "colab_type": "text"
      },
      "source": [
        "<a href=\"https://colab.research.google.com/github/tghri499/DAP/blob/main/String.ipynb\" target=\"_parent\"><img src=\"https://colab.research.google.com/assets/colab-badge.svg\" alt=\"Open In Colab\"/></a>"
      ]
    },
    {
      "cell_type": "code",
      "metadata": {
        "id": "639477ba",
        "outputId": "6ba08d16-7929-42f0-c3ea-a3bf6f446747"
      },
      "source": [
        "var1 = 'Hello World!'\n",
        "var2 = \"Python Programming\"\n",
        "print(var1,\" \",var2)"
      ],
      "id": "639477ba",
      "execution_count": null,
      "outputs": [
        {
          "name": "stdout",
          "output_type": "stream",
          "text": [
            "Hello World!   Python Programming\n"
          ]
        }
      ]
    },
    {
      "cell_type": "code",
      "metadata": {
        "id": "08c2f75a",
        "outputId": "6c9fb088-818f-4e8c-d92e-5e8dd5af8b2f"
      },
      "source": [
        "var1 = 'Hello World!'\n",
        "var2 = \"Python Programming\"\n",
        "\n",
        "print (var1[0])\n",
        "\n",
        "\n",
        "\n",
        "print (var2[1:5])"
      ],
      "id": "08c2f75a",
      "execution_count": null,
      "outputs": [
        {
          "name": "stdout",
          "output_type": "stream",
          "text": [
            "H\n",
            "ytho\n"
          ]
        }
      ]
    },
    {
      "cell_type": "code",
      "metadata": {
        "id": "2a3bb715",
        "colab": {
          "base_uri": "https://localhost:8080/"
        },
        "outputId": "8c2be9c2-bd0a-4a49-8ff2-3d8b5a367cc9"
      },
      "source": [
        "var1 = 'Hello World!'\n",
        "print (\"Updated String :- \", var1[0:6] + 'Kushal')"
      ],
      "id": "2a3bb715",
      "execution_count": null,
      "outputs": [
        {
          "output_type": "stream",
          "name": "stdout",
          "text": [
            "Updated String :-  Hello Kushal\n"
          ]
        }
      ]
    },
    {
      "cell_type": "code",
      "metadata": {
        "id": "5a9795e9",
        "colab": {
          "base_uri": "https://localhost:8080/"
        },
        "outputId": "5db46dac-9986-4b52-de5f-13ca7ed50552"
      },
      "source": [
        "str1 = input(\"Please Enter Your Own String : \")\n",
        "\n",
        "str2 = str1\n",
        "str3 = str1[:]\n",
        "str4 = str1[3:6]\n",
        "\n",
        "print(\"The Final String : Str2  = \", str2)\n",
        "print(\"The Final String : Str3  = = \", str3)\n",
        "print(\"The Final String : Str4  = = \", str4)"
      ],
      "id": "5a9795e9",
      "execution_count": null,
      "outputs": [
        {
          "output_type": "stream",
          "name": "stdout",
          "text": [
            "Please Enter Your Own String : Kushal\n",
            "The Final String : Str2  =  Kushal\n",
            "The Final String : Str3  = =  Kushal\n",
            "The Final String : Str4  = =  hal\n"
          ]
        }
      ]
    },
    {
      "cell_type": "code",
      "metadata": {
        "id": "e78fecfd",
        "colab": {
          "base_uri": "https://localhost:8080/"
        },
        "outputId": "751f3b13-0078-48e1-a41b-12f49394b5da"
      },
      "source": [
        "#Python String capitalize() method returns a copy of the string with only its first character capitalized.\n",
        "str = \"here is string example....wow!!!\";\n",
        "print (\"str.capitalize() : \", str.capitalize())"
      ],
      "id": "e78fecfd",
      "execution_count": null,
      "outputs": [
        {
          "output_type": "stream",
          "name": "stdout",
          "text": [
            "str.capitalize() :  Here is string example....wow!!!\n"
          ]
        }
      ]
    },
    {
      "cell_type": "code",
      "metadata": {
        "id": "e3e0d875",
        "colab": {
          "base_uri": "https://localhost:8080/"
        },
        "outputId": "9e25a1f1-1e5f-4ec2-ca6c-9b6e4885c949"
      },
      "source": [
        "#center() returns centered in a string of length width. Padding is done using the specified fillchar. Default filler is a space.\n",
        "\n",
        "\n",
        "str = \"here is string example....wow!!!\"\n",
        "print (\"str.center(40, 'a') : \", str.center(40, '*'))"
      ],
      "id": "e3e0d875",
      "execution_count": null,
      "outputs": [
        {
          "output_type": "stream",
          "name": "stdout",
          "text": [
            "str.center(40, 'a') :  ****here is string example....wow!!!****\n"
          ]
        }
      ]
    },
    {
      "cell_type": "code",
      "metadata": {
        "id": "09638a80",
        "colab": {
          "base_uri": "https://localhost:8080/"
        },
        "outputId": "bef9f56a-1dd5-4107-ca98-5a9eaa302d66"
      },
      "source": [
        "#count() returns the number of occurrences of substring sub in the range [start, end]. \n",
        "\n",
        "#str.count(sub, start= 0,end=len(string))\n",
        "\n",
        "str = \"here is string example....wow!!!\";\n",
        "\n",
        "sub = \"i\";\n",
        "print (\"str.count(sub, 4, 40) : \", str.count(sub, 4, 40))\n",
        "sub = \"wow\";\n",
        "print (\"str.count(sub) : \", str.count(sub))"
      ],
      "id": "09638a80",
      "execution_count": null,
      "outputs": [
        {
          "output_type": "stream",
          "name": "stdout",
          "text": [
            "str.count(sub, 4, 40) :  2\n",
            "str.count(sub) :  1\n"
          ]
        }
      ]
    },
    {
      "cell_type": "code",
      "metadata": {
        "id": "ab509538",
        "colab": {
          "base_uri": "https://localhost:8080/"
        },
        "outputId": "2e380999-bc16-487e-c6b3-e1581b5afcf8"
      },
      "source": [
        "#find() determines if string str occurs in string, or in a substring of string if starting index beg and ending index end are given.\n",
        "\n",
        "#str.find(str, beg=0, end=len(string))\n",
        "\n",
        "str1 = \"here is string example....wow!!!\";\n",
        "str2 = \"is\";\n",
        "\n",
        "print (str1.find(str2))\n",
        "print (str1.find(str2, 10))\n",
        "print (str1.find(str2, 40))"
      ],
      "id": "ab509538",
      "execution_count": null,
      "outputs": [
        {
          "output_type": "stream",
          "name": "stdout",
          "text": [
            "5\n",
            "-1\n",
            "-1\n"
          ]
        }
      ]
    },
    {
      "cell_type": "code",
      "metadata": {
        "id": "280f1fb5",
        "colab": {
          "base_uri": "https://localhost:8080/"
        },
        "outputId": "541481f6-be21-4cc5-be45-b530c666ae9a"
      },
      "source": [
        "#index() determines if string str occurs in string or in a substring of string if starting index beg and ending index end are given.\n",
        "\n",
        "str1 = \"here is string example....wow!!!\";\n",
        "str2 = \"exam\";\n",
        "\n",
        "print (str1.index(str2))\n",
        "print (str1.index(str2, 10,32))\n"
      ],
      "id": "280f1fb5",
      "execution_count": null,
      "outputs": [
        {
          "output_type": "stream",
          "name": "stdout",
          "text": [
            "15\n",
            "15\n"
          ]
        }
      ]
    },
    {
      "cell_type": "code",
      "metadata": {
        "id": "3185da7c",
        "colab": {
          "base_uri": "https://localhost:8080/"
        },
        "outputId": "c7487c1a-8cec-41a4-a6a8-85aef43691f3"
      },
      "source": [
        "#isalnum() checks whether the string consists of alphanumeric characters.\n",
        "\n",
        "str = \"here2009\";  # No space in this string\n",
        "print (str.isalnum())\n",
        "\n",
        "str = \"here is string example....wow!!!\";\n",
        "print (str.isalnum())"
      ],
      "id": "3185da7c",
      "execution_count": null,
      "outputs": [
        {
          "output_type": "stream",
          "name": "stdout",
          "text": [
            "True\n",
            "False\n"
          ]
        }
      ]
    },
    {
      "cell_type": "code",
      "metadata": {
        "id": "c1d5f159",
        "colab": {
          "base_uri": "https://localhost:8080/"
        },
        "outputId": "57b6b4cd-941f-48d1-bf50-bb293c76828f"
      },
      "source": [
        "str = \"Kushalkp\";  # No space & digit in this string\n",
        "print (str.isalpha())\n",
        "\n",
        "str = \"this is string example....wow!!!\";\n",
        "print (str.isalpha())"
      ],
      "id": "c1d5f159",
      "execution_count": null,
      "outputs": [
        {
          "output_type": "stream",
          "name": "stdout",
          "text": [
            "True\n",
            "False\n"
          ]
        }
      ]
    },
    {
      "cell_type": "code",
      "metadata": {
        "id": "2446680f",
        "colab": {
          "base_uri": "https://localhost:8080/"
        },
        "outputId": "c42264fd-c94b-4f49-dad0-9915df89616a"
      },
      "source": [
        "str = \"123456\";  # Only digit in this string\n",
        "print (str.isdigit())\n",
        "\n",
        "str = \"this is string example....wow!!!\";\n",
        "print (str.isdigit())"
      ],
      "id": "2446680f",
      "execution_count": null,
      "outputs": [
        {
          "output_type": "stream",
          "name": "stdout",
          "text": [
            "True\n",
            "False\n"
          ]
        }
      ]
    },
    {
      "cell_type": "code",
      "metadata": {
        "scrolled": true,
        "id": "ed8c6da3",
        "colab": {
          "base_uri": "https://localhost:8080/"
        },
        "outputId": "2a312b46-94b2-4f1f-9113-1526fafc8faa"
      },
      "source": [
        "str = \"Here is string example....wow!!!\"; \n",
        "print (str.islower())\n",
        "\n",
        "str = \"here is string example....wow!!!\";\n",
        "print (str.islower())"
      ],
      "id": "ed8c6da3",
      "execution_count": null,
      "outputs": [
        {
          "output_type": "stream",
          "name": "stdout",
          "text": [
            "False\n",
            "True\n"
          ]
        }
      ]
    },
    {
      "cell_type": "code",
      "metadata": {
        "id": "9bad371e",
        "colab": {
          "base_uri": "https://localhost:8080/"
        },
        "outputId": "2dfe6570-4789-42d7-8166-b152d04ec80d"
      },
      "source": [
        "str = \"this2009\";  \n",
        "print (str.isnumeric())\n",
        "\n",
        "str = \"23443434\";\n",
        "print (str.isnumeric())"
      ],
      "id": "9bad371e",
      "execution_count": null,
      "outputs": [
        {
          "output_type": "stream",
          "name": "stdout",
          "text": [
            "False\n",
            "True\n"
          ]
        }
      ]
    },
    {
      "cell_type": "code",
      "metadata": {
        "id": "6f8e242a",
        "colab": {
          "base_uri": "https://localhost:8080/"
        },
        "outputId": "38d043d5-9054-40a0-fc9f-a5039ca2a7f8"
      },
      "source": [
        "str = \"  \"; \n",
        "print (str.isspace())\n",
        "\n",
        "str = \"This is string example....wow!!!\";\n",
        "print (str.isspace())"
      ],
      "id": "6f8e242a",
      "execution_count": null,
      "outputs": [
        {
          "output_type": "stream",
          "name": "stdout",
          "text": [
            "True\n",
            "False\n"
          ]
        }
      ]
    },
    {
      "cell_type": "code",
      "metadata": {
        "id": "a6c16bc6",
        "colab": {
          "base_uri": "https://localhost:8080/"
        },
        "outputId": "3da058c6-5512-4c44-e310-265cd2604c40"
      },
      "source": [
        "str = \"This Is String Example...Wow!!!\";\n",
        "print (str.istitle())\n",
        "\n",
        "str = \"This is string example....wow!!!\";\n",
        "print (str.istitle())"
      ],
      "id": "a6c16bc6",
      "execution_count": null,
      "outputs": [
        {
          "output_type": "stream",
          "name": "stdout",
          "text": [
            "True\n",
            "False\n"
          ]
        }
      ]
    },
    {
      "cell_type": "code",
      "metadata": {
        "id": "e2390df2",
        "colab": {
          "base_uri": "https://localhost:8080/"
        },
        "outputId": "041f88c2-89d5-4d9c-fd79-bb887d30d1ad"
      },
      "source": [
        "\n",
        "str = \"HERE IS STRING EXAMPLE....WOW!!!\"; \n",
        "print (str.isupper())\n",
        "\n",
        "str = \"THIS is string example....wow!!!\";\n",
        "print (str.isupper())"
      ],
      "id": "e2390df2",
      "execution_count": null,
      "outputs": [
        {
          "output_type": "stream",
          "name": "stdout",
          "text": [
            "True\n",
            "False\n"
          ]
        }
      ]
    },
    {
      "cell_type": "code",
      "metadata": {
        "id": "1af7db5c",
        "colab": {
          "base_uri": "https://localhost:8080/"
        },
        "outputId": "84d14683-1d88-4742-f251-3a3a5d15d767"
      },
      "source": [
        "#join() returns a string in which the string elements of sequence have been joined by str separator.\n",
        "\n",
        "s = \"  *  *  \";\n",
        "seq = (\"abc\", \"bttt\", \"cqweqe\"); # This is sequence of strings.\n",
        "print (s.join( seq ))"
      ],
      "id": "1af7db5c",
      "execution_count": null,
      "outputs": [
        {
          "output_type": "stream",
          "name": "stdout",
          "text": [
            "abc  *  *  bttt  *  *  cqweqe\n"
          ]
        }
      ]
    },
    {
      "cell_type": "code",
      "metadata": {
        "id": "355a2d7c",
        "colab": {
          "base_uri": "https://localhost:8080/"
        },
        "outputId": "a8aac7b1-c4ca-4986-d1f1-4f40723663dc"
      },
      "source": [
        "str = \"here is string example....wow!!!\";\n",
        "print (\"Length of the string: \", len(str))"
      ],
      "id": "355a2d7c",
      "execution_count": null,
      "outputs": [
        {
          "output_type": "stream",
          "name": "stdout",
          "text": [
            "Length of the string:  32\n"
          ]
        }
      ]
    },
    {
      "cell_type": "code",
      "metadata": {
        "id": "5cc3dcbb",
        "colab": {
          "base_uri": "https://localhost:8080/"
        },
        "outputId": "812e5468-b1f9-494f-a509-7249959daa6b"
      },
      "source": [
        "#lstrip() returns a copy of the string in which all chars have been stripped from the beginning of the string (default whitespace characters)\n",
        "\n",
        "str = \"     here is string example....wow!!!     \";\n",
        "print (str.lstrip())\n",
        "str = \"88888888this is string example....wow!!!999999\";\n",
        "print (str.lstrip('8'))\n",
        "print (str.rstrip('9'))\n",
        "\n",
        "\n"
      ],
      "id": "5cc3dcbb",
      "execution_count": null,
      "outputs": [
        {
          "output_type": "stream",
          "name": "stdout",
          "text": [
            "here is string example....wow!!!     \n",
            "this is string example....wow!!!999999\n",
            "88888888this is string example....wow!!!\n"
          ]
        }
      ]
    },
    {
      "cell_type": "code",
      "metadata": {
        "id": "8fecbd1e",
        "colab": {
          "base_uri": "https://localhost:8080/"
        },
        "outputId": "5f3a3a26-a20d-4265-b99d-c029d6beec25"
      },
      "source": [
        "str = \"HERE IS STRING EXAMPLE....WOW!!!\";\n",
        "print (str.lower())"
      ],
      "id": "8fecbd1e",
      "execution_count": null,
      "outputs": [
        {
          "output_type": "stream",
          "name": "stdout",
          "text": [
            "here is string example....wow!!!\n"
          ]
        }
      ]
    },
    {
      "cell_type": "code",
      "metadata": {
        "id": "525011b2",
        "colab": {
          "base_uri": "https://localhost:8080/"
        },
        "outputId": "410b3881-5b83-434c-c303-c2e29a6ace03"
      },
      "source": [
        "#returns largest character\n",
        "str = \"check....wow!!!\";\n",
        "print (\"Max character: \" + max(str))\n",
        "\n",
        "str = \"Kushal....!!!\";\n",
        "print (\"Max character: \" + max(str))"
      ],
      "id": "525011b2",
      "execution_count": null,
      "outputs": [
        {
          "output_type": "stream",
          "name": "stdout",
          "text": [
            "Max character: w\n",
            "Max character: u\n"
          ]
        }
      ]
    },
    {
      "cell_type": "code",
      "metadata": {
        "id": "527b32f4",
        "colab": {
          "base_uri": "https://localhost:8080/"
        },
        "outputId": "5db55be3-bf90-45dd-dda5-e6bb2adaf981"
      },
      "source": [
        "str = \"this-is-real-string-example....wow!!!\";\n",
        "print (\"Min character: \" + min(str))\n",
        "\n",
        "str = \"this-is-a-string-example....wow!!!\";\n",
        "print (\"Min character: \" + min(str))"
      ],
      "id": "527b32f4",
      "execution_count": null,
      "outputs": [
        {
          "output_type": "stream",
          "name": "stdout",
          "text": [
            "Min character: !\n",
            "Min character: !\n"
          ]
        }
      ]
    },
    {
      "cell_type": "code",
      "metadata": {
        "id": "720b1d77",
        "colab": {
          "base_uri": "https://localhost:8080/"
        },
        "outputId": "1ba96591-0af3-46e1-b37c-b552b4a0981c"
      },
      "source": [
        "#str.replace(old, new[, max])\n",
        "\n",
        "str = \"this is string example....wow!!! this is really string\"\n",
        "print (str.replace(\"is\", \"was\"))\n",
        "print (str.replace(\"is\", \"was\", 3))"
      ],
      "id": "720b1d77",
      "execution_count": null,
      "outputs": [
        {
          "output_type": "stream",
          "name": "stdout",
          "text": [
            "thwas was string example....wow!!! thwas was really string\n",
            "thwas was string example....wow!!! thwas is really string\n"
          ]
        }
      ]
    },
    {
      "cell_type": "code",
      "metadata": {
        "id": "22b8a873",
        "colab": {
          "base_uri": "https://localhost:8080/"
        },
        "outputId": "c82aa0d2-0c8d-45a7-934d-e8945da7fd65"
      },
      "source": [
        "str = \"this is string example....wow!!!\";\n",
        "print (str.startswith( 'this' ))\n",
        "print (str.startswith( 'is', 2, 4 ))\n",
        "print (str.startswith( 'this', 2, 4 ))"
      ],
      "id": "22b8a873",
      "execution_count": null,
      "outputs": [
        {
          "output_type": "stream",
          "name": "stdout",
          "text": [
            "True\n",
            "True\n",
            "False\n"
          ]
        }
      ]
    },
    {
      "cell_type": "code",
      "metadata": {
        "id": "be5dc6d3",
        "colab": {
          "base_uri": "https://localhost:8080/"
        },
        "outputId": "c0964aa7-9640-4000-d6ff-bf25886bf8fd"
      },
      "source": [
        "str = \"this is string example....wow!!!\";\n",
        "print (\"str.capitalize() : \", str.upper())"
      ],
      "id": "be5dc6d3",
      "execution_count": null,
      "outputs": [
        {
          "output_type": "stream",
          "name": "stdout",
          "text": [
            "str.capitalize() :  THIS IS STRING EXAMPLE....WOW!!!\n"
          ]
        }
      ]
    },
    {
      "cell_type": "code",
      "metadata": {
        "id": "fff92a6e",
        "colab": {
          "base_uri": "https://localhost:8080/"
        },
        "outputId": "94a3bb4c-b2b0-4de6-b16e-3918f4dbdf70"
      },
      "source": [
        "str = \"this is string example....wow!!!\";\n",
        "print (str.swapcase())\n",
        "\n",
        "str = \"THIS IS STRING EXAMPLE....WOW!!!\";\n",
        "print (str.swapcase())"
      ],
      "id": "fff92a6e",
      "execution_count": null,
      "outputs": [
        {
          "output_type": "stream",
          "name": "stdout",
          "text": [
            "THIS IS STRING EXAMPLE....WOW!!!\n",
            "this is string example....wow!!!\n"
          ]
        }
      ]
    },
    {
      "cell_type": "code",
      "metadata": {
        "id": "24cc3914"
      },
      "source": [
        ""
      ],
      "id": "24cc3914",
      "execution_count": null,
      "outputs": []
    },
    {
      "cell_type": "code",
      "metadata": {
        "id": "db06d76a"
      },
      "source": [
        ""
      ],
      "id": "db06d76a",
      "execution_count": null,
      "outputs": []
    }
  ]
}