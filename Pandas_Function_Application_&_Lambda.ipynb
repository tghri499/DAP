{
  "nbformat": 4,
  "nbformat_minor": 5,
  "metadata": {
    "kernelspec": {
      "display_name": "Python 3",
      "language": "python",
      "name": "python3"
    },
    "language_info": {
      "codemirror_mode": {
        "name": "ipython",
        "version": 3
      },
      "file_extension": ".py",
      "mimetype": "text/x-python",
      "name": "python",
      "nbconvert_exporter": "python",
      "pygments_lexer": "ipython3",
      "version": "3.8.8"
    },
    "colab": {
      "name": "Pandas-Function Application & Lambda.ipynb",
      "provenance": [],
      "include_colab_link": true
    }
  },
  "cells": [
    {
      "cell_type": "markdown",
      "metadata": {
        "id": "view-in-github",
        "colab_type": "text"
      },
      "source": [
        "<a href=\"https://colab.research.google.com/github/tghri499/DAP/blob/main/Pandas_Function_Application_%26_Lambda.ipynb\" target=\"_parent\"><img src=\"https://colab.research.google.com/assets/colab-badge.svg\" alt=\"Open In Colab\"/></a>"
      ]
    },
    {
      "cell_type": "code",
      "metadata": {
        "scrolled": true,
        "id": "e923dd16",
        "outputId": "288a2eac-f93c-450c-95e3-2e39b571063a"
      },
      "source": [
        "import pandas as pd\n",
        "import numpy as np\n",
        "\n",
        "def adder(ele1,ele2):\n",
        "   return ele1+ele2\n",
        "\n",
        "df = pd.DataFrame(np.random.randn(5,3),columns=['col1','col2','col3'])\n",
        "print(df)\n",
        "print(\"printing the results of pipe\")\n",
        "print(df.pipe(adder,2))"
      ],
      "id": "e923dd16",
      "execution_count": null,
      "outputs": [
        {
          "name": "stdout",
          "output_type": "stream",
          "text": [
            "       col1      col2      col3\n",
            "0  0.650209  0.279272 -0.874434\n",
            "1 -1.159792  0.406474 -0.532977\n",
            "2 -1.089769 -0.031652 -0.457861\n",
            "3  1.006854  0.833344 -0.878184\n",
            "4 -0.508686 -0.488085 -0.991928\n",
            "printing the results of pipe\n",
            "       col1      col2      col3\n",
            "0  2.650209  2.279272  1.125566\n",
            "1  0.840208  2.406474  1.467023\n",
            "2  0.910231  1.968348  1.542139\n",
            "3  3.006854  2.833344  1.121816\n",
            "4  1.491314  1.511915  1.008072\n"
          ]
        }
      ]
    },
    {
      "cell_type": "code",
      "metadata": {
        "id": "f592d461",
        "outputId": "9032029e-2119-4e6e-d2fd-7a14933186cc"
      },
      "source": [
        "import pandas as pd\n",
        "import numpy as np\n",
        "\n",
        "def adder(ele1,ele2):\n",
        "   return ele1+ele2\n",
        "\n",
        "df = pd.DataFrame(np.random.randn(5,3),columns=['col1','col2','col3'])\n",
        "print(df)\n",
        "\n",
        "print (df.apply(np.mean))"
      ],
      "id": "f592d461",
      "execution_count": null,
      "outputs": [
        {
          "name": "stdout",
          "output_type": "stream",
          "text": [
            "       col1      col2      col3\n",
            "0 -0.221325 -0.379971 -0.517350\n",
            "1 -0.795384  0.654277  0.652740\n",
            "2  0.141925 -1.009026  0.990916\n",
            "3 -0.335229 -0.174160 -0.149690\n",
            "4  0.259244 -0.533985  0.176252\n",
            "col1   -0.190154\n",
            "col2   -0.288573\n",
            "col3    0.230574\n",
            "dtype: float64\n"
          ]
        }
      ]
    },
    {
      "cell_type": "code",
      "metadata": {
        "id": "4ca2311a",
        "outputId": "2407f729-06c9-456f-b000-45bf1ff04c22"
      },
      "source": [
        "import pandas as pd\n",
        "import numpy as np\n",
        "\n",
        "df = pd.DataFrame(np.random.randn(5,3),columns=['col1','col2','col3'])\n",
        "print(df)\n",
        "\n",
        "print (df.apply(np.mean,axis=1))"
      ],
      "id": "4ca2311a",
      "execution_count": null,
      "outputs": [
        {
          "name": "stdout",
          "output_type": "stream",
          "text": [
            "       col1      col2      col3\n",
            "0 -0.925125  0.541934 -0.982347\n",
            "1 -1.018046  0.082642 -3.191830\n",
            "2  0.278056 -1.534515 -0.154953\n",
            "3 -1.916473 -1.760331  0.152299\n",
            "4  0.145001 -0.521489 -2.528679\n",
            "0   -0.455179\n",
            "1   -1.375745\n",
            "2   -0.470471\n",
            "3   -1.174835\n",
            "4   -0.968389\n",
            "dtype: float64\n"
          ]
        }
      ]
    },
    {
      "cell_type": "code",
      "metadata": {
        "id": "0dbc6704",
        "outputId": "ef14de16-03ba-4975-9a99-3d9f585f882f"
      },
      "source": [
        "import pandas as pd\n",
        "import numpy as np\n",
        "df = pd.DataFrame(np.random.randn(5,3),columns=['col1','col2','col3'])\n",
        "print(df)\n",
        "\n",
        "print(df['col1'].map(lambda x:x*100))\n"
      ],
      "id": "0dbc6704",
      "execution_count": null,
      "outputs": [
        {
          "name": "stdout",
          "output_type": "stream",
          "text": [
            "       col1      col2      col3\n",
            "0 -0.866337  0.237423  0.274658\n",
            "1  1.133911 -2.230867 -0.523681\n",
            "2  1.003188  0.029264 -0.024589\n",
            "3  0.008908 -1.562550 -1.783723\n",
            "4 -0.146589 -0.450539 -1.310938\n",
            "0    -86.633711\n",
            "1    113.391137\n",
            "2    100.318824\n",
            "3      0.890847\n",
            "4    -14.658866\n",
            "Name: col1, dtype: float64\n"
          ]
        }
      ]
    },
    {
      "cell_type": "code",
      "metadata": {
        "id": "50c482f4",
        "outputId": "94a9ed20-d393-4f4f-8c94-1447468aa93f"
      },
      "source": [
        "df=pd.DataFrame({'id':[1,2,3,4,5],'name':['abc','defg','ghs','eeee','wwww'],'age':[11,22,33,44,55], 'income':[9999,8888,7777,6666,5555]})\n",
        "print(df)"
      ],
      "id": "50c482f4",
      "execution_count": null,
      "outputs": [
        {
          "name": "stdout",
          "output_type": "stream",
          "text": [
            "   id  name  age  income\n",
            "0   1   abc   11    9999\n",
            "1   2  defg   22    8888\n",
            "2   3   ghs   33    7777\n",
            "3   4  eeee   44    6666\n",
            "4   5  wwww   55    5555\n"
          ]
        }
      ]
    },
    {
      "cell_type": "code",
      "metadata": {
        "id": "78509ff2",
        "outputId": "c079167d-e090-4d9c-dffa-361c77648fcd"
      },
      "source": [
        "df['age']=df.apply(lambda x: x['age']+3, axis=1)\n",
        "print(df)"
      ],
      "id": "78509ff2",
      "execution_count": null,
      "outputs": [
        {
          "name": "stdout",
          "output_type": "stream",
          "text": [
            "   id  name  age\n",
            "0   1   abc   17\n",
            "1   2  defg   28\n",
            "2   3   ghs   39\n",
            "3   4  eeee   50\n",
            "4   5  wwww   61\n"
          ]
        }
      ]
    },
    {
      "cell_type": "code",
      "metadata": {
        "id": "31ec2e81",
        "outputId": "28a36dcc-611c-416e-94da-924e9b829717"
      },
      "source": [
        "list(filter(lambda x:x>18, df['age']))"
      ],
      "id": "31ec2e81",
      "execution_count": null,
      "outputs": [
        {
          "data": {
            "text/plain": [
              "[28, 39, 50, 61]"
            ]
          },
          "execution_count": 6,
          "metadata": {},
          "output_type": "execute_result"
        }
      ]
    },
    {
      "cell_type": "code",
      "metadata": {
        "id": "0129ea5a",
        "outputId": "2ebfa75a-2285-4c5f-97ce-639bb20190bf"
      },
      "source": [
        "df['income']=list(map(lambda x: int(x+x*0.2), df['income']))\n",
        "print(df)"
      ],
      "id": "0129ea5a",
      "execution_count": null,
      "outputs": [
        {
          "name": "stdout",
          "output_type": "stream",
          "text": [
            "   id  name  age  income\n",
            "0   1   abc   11   14397\n",
            "1   2  defg   22   12798\n",
            "2   3   ghs   33   11198\n",
            "3   4  eeee   44    9598\n",
            "4   5  wwww   55    7999\n"
          ]
        }
      ]
    },
    {
      "cell_type": "code",
      "metadata": {
        "id": "06a1515d",
        "outputId": "6026e439-f973-4b5f-b446-cef6469b7908"
      },
      "source": [
        "import functools\n",
        "\n",
        "functools.reduce(lambda a,b: a+b, df['income'])"
      ],
      "id": "06a1515d",
      "execution_count": null,
      "outputs": [
        {
          "data": {
            "text/plain": [
              "55990"
            ]
          },
          "execution_count": 10,
          "metadata": {},
          "output_type": "execute_result"
        }
      ]
    },
    {
      "cell_type": "code",
      "metadata": {
        "id": "be799491"
      },
      "source": [
        "df['category']=df['age'].apply(lambda x: 'Adult' if x>=18 else 'Child')"
      ],
      "id": "be799491",
      "execution_count": null,
      "outputs": []
    },
    {
      "cell_type": "code",
      "metadata": {
        "id": "43f1dac5",
        "outputId": "e132325e-1a2b-46b5-88e7-21792067fc9e"
      },
      "source": [
        "print(df)"
      ],
      "id": "43f1dac5",
      "execution_count": null,
      "outputs": [
        {
          "name": "stdout",
          "output_type": "stream",
          "text": [
            "   id  name  age  income category\n",
            "0   1   abc   11   14397    Child\n",
            "1   2  defg   22   12798    Adult\n",
            "2   3   ghs   33   11198    Adult\n",
            "3   4  eeee   44    9598    Adult\n",
            "4   5  wwww   55    7999    Adult\n"
          ]
        }
      ]
    },
    {
      "cell_type": "code",
      "metadata": {
        "id": "d966841e"
      },
      "source": [
        ""
      ],
      "id": "d966841e",
      "execution_count": null,
      "outputs": []
    }
  ]
}